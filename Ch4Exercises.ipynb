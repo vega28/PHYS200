{
 "metadata": {
  "name": "Ch4Exercises"
 },
 "nbformat": 3,
 "worksheets": [
  {
   "cells": [
    {
     "cell_type": "code",
     "collapsed": false,
     "input": [
      "import sys",
      "sys.path.append(\"C:\\Users\\Kelsi\\PHYS200\\swampy-2.0\")",
      "",
      "from TurtleWorld import *",
      "world = TurtleWorld()",
      "bob = Turtle()",
      "print bob",
      "ray = Turtle()",
      "bob.delay = 0.01",
      "ray.delay = 0.01"
     ],
     "language": "python",
     "outputs": [
      {
       "output_type": "stream",
       "stream": "stdout",
       "text": [
        "<TurtleWorld.Turtle object at 0x0000000007F93780>"
       ]
      }
     ],
     "prompt_number": 1
    },
    {
     "cell_type": "plaintext",
     "source": [
      "Bob makes a square:"
     ]
    },
    {
     "cell_type": "code",
     "collapsed": false,
     "input": [
      "fd(bob, 100) #bottom of square",
      "lt(bob)",
      "fd(bob, 100) #right side",
      "lt(bob)",
      "fd(bob, 100) #top",
      "lt(bob)",
      "fd(bob, 100) #left side"
     ],
     "language": "python",
     "outputs": [],
     "prompt_number": 7
    },
    {
     "cell_type": "code",
     "collapsed": false,
     "input": [
      "for i in range(4):",
      "    print 'Hi!'",
      ""
     ],
     "language": "python",
     "outputs": [
      {
       "output_type": "stream",
       "stream": "stdout",
       "text": [
        "Hi!",
        "Hi!",
        "Hi!",
        "Hi!"
       ]
      }
     ],
     "prompt_number": 2
    },
    {
     "cell_type": "code",
     "collapsed": false,
     "input": [
      "for i in range(4):",
      "    fd(bob, 100)",
      "    lt(bob)"
     ],
     "language": "python",
     "outputs": [],
     "prompt_number": 3
    },
    {
     "cell_type": "heading",
     "level": 3,
     "source": [
      "4.3 Exercises"
     ]
    },
    {
     "cell_type": "plaintext",
     "source": [
      "1. make a square function"
     ]
    },
    {
     "cell_type": "code",
     "collapsed": true,
     "input": [
      "def square(t):",
      "    \"\"\"Draws a square using turtle t\"\"\"",
      "    for i in range(4):",
      "        fd(t, 100)",
      "        lt(t)"
     ],
     "language": "python",
     "outputs": [],
     "prompt_number": 4
    },
    {
     "cell_type": "code",
     "collapsed": true,
     "input": [
      "square(bob)"
     ],
     "language": "python",
     "outputs": [],
     "prompt_number": 5
    },
    {
     "cell_type": "plaintext",
     "source": [
      "2. add length of sides to square function"
     ]
    },
    {
     "cell_type": "code",
     "collapsed": true,
     "input": [
      "def square(t,length):",
      "    \"\"\"Draws a square of given length using turtle t.\"\"\"",
      "    for i in range(4):",
      "        fd(t, length)",
      "        lt(t)"
     ],
     "language": "python",
     "outputs": [],
     "prompt_number": 2
    },
    {
     "cell_type": "code",
     "collapsed": true,
     "input": [
      "square(bob, 50)",
      "square(bob, 100)",
      "square(bob, 10)"
     ],
     "language": "python",
     "outputs": [],
     "prompt_number": 3
    },
    {
     "cell_type": "plaintext",
     "source": [
      "3. make a polygon with n sides"
     ]
    },
    {
     "cell_type": "code",
     "collapsed": true,
     "input": [
      "def polygon(t,n,length):",
      "    \"\"\"Draws a polygon with n sides of given length using turtle t.\"\"\"",
      "    for i in range(n):",
      "        fd(t,length)",
      "        lt(t, 360.0/n)"
     ],
     "language": "python",
     "outputs": [],
     "prompt_number": 5
    },
    {
     "cell_type": "code",
     "collapsed": false,
     "input": [
      "polygon(bob,3,100)",
      "polygon(bob,5,100)",
      "polygon(bob,20,10)"
     ],
     "language": "python",
     "outputs": [],
     "prompt_number": 9
    },
    {
     "cell_type": "plaintext",
     "source": [
      "4. make a circle of specified radius"
     ]
    },
    {
     "cell_type": "code",
     "collapsed": true,
     "input": [
      "def circle(t,r):",
      "    \"\"\"Draws a circle of given radius r, using turtle t.\"\"\"",
      "    n = 1000",
      "    for i in range (n):",
      "        fd(t,2*pi*r/n)",
      "        lt(t, 360.0/n)"
     ],
     "language": "python",
     "outputs": [],
     "prompt_number": 12
    },
    {
     "cell_type": "code",
     "collapsed": true,
     "input": [
      "circle(bob,50)"
     ],
     "language": "python",
     "outputs": [],
     "prompt_number": 13
    },
    {
     "cell_type": "plaintext",
     "source": [
      "5. make an arc for a specified angle and radius"
     ]
    },
    {
     "cell_type": "code",
     "collapsed": false,
     "input": [
      "def arc(t,r,angle):",
      "    \"\"\"Draws an arc of a radius r and angle given in degrees, using turtle t.\"\"\"",
      "    n = 500",
      "    for i in range(int(n*angle/360)):",
      "        fd(t,2*pi*r/n)",
      "        lt(t, 360.0/n)"
     ],
     "language": "python",
     "outputs": [],
     "prompt_number": 50
    },
    {
     "cell_type": "code",
     "collapsed": false,
     "input": [
      "arc(bob,50,90)"
     ],
     "language": "python",
     "outputs": [],
     "prompt_number": 28
    },
    {
     "cell_type": "code",
     "collapsed": false,
     "input": [
      "def smiley(x,y):",
      "    \"\"\"Draws a smiley face using two turtles, x and y\"\"\"",
      "    pu(x)",
      "    fd(x,-100)",
      "    lt(x)",
      "    fd(x,100)",
      "    pu(y)",
      "    fd(y,100)",
      "    lt(y)",
      "    fd(y,100)",
      "    pd(x)",
      "    pd(y)",
      "    rt(y)",
      "    rt(x)",
      "    ray.delay = 0.01",
      "    bob.delay = 0.01",
      "    arc(y,10,360)",
      "    arc(y,3,360)",
      "    arc(x,10,360)",
      "    arc(x,3,360)",
      "    rt(x)",
      "    rt(y)",
      "    pu(x)",
      "    pu(y)",
      "    fd(x,100)",
      "    fd(y,100)",
      "    pd(x)",
      "    arc(x,100,180)",
      "",
      "smiley(bob,ray)"
     ],
     "language": "python",
     "outputs": [],
     "prompt_number": 4
    },
    {
     "cell_type": "heading",
     "level": 3,
     "source": [
      "Chapter 4 Exercises"
     ]
    },
    {
     "cell_type": "plaintext",
     "source": [
      "4.1.1 ",
      "Go back and write docstrings for the functions created above."
     ]
    },
    {
     "cell_type": "plaintext",
     "source": [
      "4.1.2 ",
      "Draw a stack diagram showing the state of the program while executing circle(bob,r)."
     ]
    },
    {
     "cell_type": "plaintext",
     "source": [
      "4.1.3 ",
      "See how to minimize issues related to the linear approximation of the circle. "
     ]
    },
    {
     "cell_type": "plaintext",
     "source": [
      "4.2",
      "Write a function to draw flowers."
     ]
    },
    {
     "cell_type": "code",
     "collapsed": false,
     "input": [
      "n = 13",
      "x = 360.0/n",
      "r = 100",
      "def flower(t,r,x,n):",
      "    \"\"\"Draw a flower with n petals using turtle t.\"\"\"",
      "    for i in range(n):",
      "        arc(t,r,x)",
      "        lt(t,180-x)",
      "        arc(t,r,x)",
      "        lt(t,180)",
      "",
      "flower(bob,r,x,n)",
      "    "
     ],
     "language": "python",
     "outputs": [],
     "prompt_number": 54
    },
    {
     "cell_type": "plaintext",
     "source": [
      "4.3 ",
      "Write a function to make polygons out of triangles"
     ]
    },
    {
     "cell_type": "code",
     "collapsed": false,
     "input": [
      "def trianglegon(t,r,n):",
      "    x = 90-180.0/n",
      "    edge = 2*r*sin(pi/n)",
      "    for i in range (n):",
      "        fd(t,r)",
      "        lt(t,180-x)",
      "        fd(t,edge)",
      "        lt(t,180-x)",
      "        fd(t,r)",
      "        lt(t,180)",
      "        ",
      "        ",
      "trianglegon(bob,100,5)               ",
      "trianglegon(bob,100,10)"
     ],
     "language": "python",
     "outputs": [],
     "prompt_number": 5
    }
   ]
  }
 ]
}