{
 "metadata": {
  "name": "Ch6Exercises"
 },
 "nbformat": 3,
 "worksheets": [
  {
   "cells": [
    {
     "cell_type": "heading",
     "level": 3,
     "source": [
      "Chapter 6 Exercises"
     ]
    },
    {
     "cell_type": "plaintext",
     "source": [
      "6.1  Creating a comparison function..."
     ]
    },
    {
     "cell_type": "code",
     "collapsed": true,
     "input": [
      "def compare(x,y):",
      "    \"\"\"Compares two input values, giving 1 if x>y, 0 if x=y, and -1 if x<y\"\"\"",
      "    if x > y:",
      "        return 1",
      "    elif x == y:",
      "        return 0",
      "    else:",
      "        return -1"
     ],
     "language": "python",
     "outputs": [],
     "prompt_number": 28
    },
    {
     "cell_type": "code",
     "collapsed": false,
     "input": [
      "compare(2,4)"
     ],
     "language": "python",
     "outputs": [
      {
       "output_type": "pyout",
       "prompt_number": 29,
       "text": [
        "-1"
       ]
      }
     ],
     "prompt_number": 29
    },
    {
     "cell_type": "code",
     "collapsed": false,
     "input": [
      "compare(1,1)"
     ],
     "language": "python",
     "outputs": [
      {
       "output_type": "pyout",
       "prompt_number": 30,
       "text": [
        "0"
       ]
      }
     ],
     "prompt_number": 30
    },
    {
     "cell_type": "code",
     "collapsed": false,
     "input": [
      "compare(2,1)"
     ],
     "language": "python",
     "outputs": [
      {
       "output_type": "pyout",
       "prompt_number": 31,
       "text": [
        "1"
       ]
      }
     ],
     "prompt_number": 31
    },
    {
     "cell_type": "plaintext",
     "source": [
      "6.2  Using incremental development in creating a function."
     ]
    },
    {
     "cell_type": "code",
     "collapsed": true,
     "input": [
      "def hypotenuse(a,b):",
      "    \"\"\"Gives hypotenuse of a right triangle when other two legs are input as a and b.\"\"\"",
      "    print 'side one is', a",
      "    print 'side two is', b",
      "    a2 = a**2",
      "    b2 = b**2",
      "    # print a2 to check",
      "    # print b2 to check",
      "    c2 = a2 + b2",
      "    # print c2 to check",
      "    c = math.sqrt(c2)",
      "    print 'hypotenuse is', c"
     ],
     "language": "python",
     "outputs": [],
     "prompt_number": 32
    },
    {
     "cell_type": "code",
     "collapsed": false,
     "input": [
      "hypotenuse(3,4)"
     ],
     "language": "python",
     "outputs": [
      {
       "output_type": "stream",
       "stream": "stdout",
       "text": [
        "side one is 3",
        "side two is 4",
        "hypotenuse is 5.0"
       ]
      }
     ],
     "prompt_number": 33
    },
    {
     "cell_type": "plaintext",
     "source": [
      "6.5  Ackermann Function, A(m,n)."
     ]
    },
    {
     "cell_type": "code",
     "collapsed": true,
     "input": [
      "def ack(m,n):",
      "    if m == 0:",
      "        A = n + 1",
      "        return A",
      "    elif m > 0 and n == 0:",
      "        A = ack(m-1,1)",
      "        return A",
      "    elif m > 0 and n > 0:",
      "        A = ack(m-1,ack(m,n-1))",
      "        return A",
      "    else:",
      "        print 'erm...'",
      "        return None",
      "    "
     ],
     "language": "python",
     "outputs": [],
     "prompt_number": 50
    },
    {
     "cell_type": "code",
     "collapsed": false,
     "input": [
      "ack(3,4)",
      "# any higher m is too much to compute in reasonable time..."
     ],
     "language": "python",
     "outputs": [
      {
       "output_type": "pyout",
       "prompt_number": 65,
       "text": [
        "125"
       ]
      }
     ],
     "prompt_number": 65
    },
    {
     "cell_type": "plaintext",
     "source": [
      "6.6  Palindrome function"
     ]
    },
    {
     "cell_type": "code",
     "collapsed": true,
     "input": [
      "def first(word):",
      "    return word[0]"
     ],
     "language": "python",
     "outputs": [],
     "prompt_number": 66
    },
    {
     "cell_type": "code",
     "collapsed": true,
     "input": [
      "def last(word):",
      "    return word[-1]"
     ],
     "language": "python",
     "outputs": [],
     "prompt_number": 67
    },
    {
     "cell_type": "code",
     "collapsed": true,
     "input": [
      "def middle(word):",
      "    return word[1:-1]"
     ],
     "language": "python",
     "outputs": [],
     "prompt_number": 68
    },
    {
     "cell_type": "code",
     "collapsed": false,
     "input": [
      "print first('word'), middle('word'), last('word')"
     ],
     "language": "python",
     "outputs": [
      {
       "output_type": "stream",
       "stream": "stdout",
       "text": [
        "w or d"
       ]
      }
     ],
     "prompt_number": 77
    },
    {
     "cell_type": "code",
     "collapsed": false,
     "input": [
      "print first('balloon'), middle('balloon'), last('balloon')"
     ],
     "language": "python",
     "outputs": [
      {
       "output_type": "stream",
       "stream": "stdout",
       "text": [
        "b alloo n"
       ]
      }
     ],
     "prompt_number": 80
    },
    {
     "cell_type": "code",
     "collapsed": true,
     "input": [
      "#def is_palindrome(word):",
      "#    \"\"\"Tells if the input word is a palindrome.\"\"\"",
      "#    if first(word) == last(word):",
      "#        word2 = middle(word)",
      "#        is_palindrome(word2)",
      "#        print 'You found a palindrome'",
      "#    else:",
      "#        print 'Not a palindrome.'"
     ],
     "language": "python",
     "outputs": [],
     "prompt_number": 92
    },
    {
     "cell_type": "code",
     "collapsed": true,
     "input": [
      "def is_palindrome(word):",
      "    #for i in range(len(word)/2):",
      "    while len(word)>1:",
      "        if first(word) == last(word):",
      "            word = middle(word)",
      "            print word",
      "            return True",
      "        else:",
      "            return False",
      "        is_palindrome(word)",
      "    print word"
     ],
     "language": "python",
     "outputs": [],
     "prompt_number": 127
    },
    {
     "cell_type": "code",
     "collapsed": false,
     "input": [
      "is_palindrome('kayak')"
     ],
     "language": "python",
     "outputs": [
      {
       "output_type": "stream",
       "stream": "stdout",
       "text": [
        "aya"
       ]
      },
      {
       "output_type": "pyout",
       "prompt_number": 128,
       "text": [
        "True"
       ]
      }
     ],
     "prompt_number": 128
    },
    {
     "cell_type": "code",
     "collapsed": true,
     "input": [],
     "language": "python",
     "outputs": [],
     "prompt_number": 116
    },
    {
     "cell_type": "code",
     "collapsed": true,
     "input": [],
     "language": "python",
     "outputs": []
    }
   ]
  }
 ]
}