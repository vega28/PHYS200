{
 "metadata": {
  "name": "Chapter2Exercises"
 },
 "nbformat": 3,
 "worksheets": [
  {
   "cells": [
    {
     "cell_type": "heading",
     "level": 3,
     "source": [
      "Exercise 2.1"
     ]
    },
    {
     "cell_type": "code",
     "collapsed": false,
     "input": [
      "zipcode = 02132",
      "print zipcode"
     ],
     "language": "python",
     "outputs": [
      {
       "output_type": "stream",
       "stream": "stdout",
       "text": [
        "1114"
       ]
      }
     ],
     "prompt_number": 64
    },
    {
     "cell_type": "code",
     "collapsed": false,
     "input": [
      "print 01, 010, 0100, 01000, \"octadecimal\""
     ],
     "language": "python",
     "outputs": [
      {
       "output_type": "stream",
       "stream": "stdout",
       "text": [
        "1 8 64 512 octadecimal"
       ]
      }
     ],
     "prompt_number": 72
    },
    {
     "cell_type": "plaintext",
     "source": [
      "Adding a zero to the front causes it to recognize it as an octal number (8-based numbers). Adding 0x gives hexadecimals!"
     ]
    },
    {
     "cell_type": "code",
     "collapsed": false,
     "input": [
      "print 0x1, 0x10, 0x100, \"hexadecimal\""
     ],
     "language": "python",
     "outputs": [
      {
       "output_type": "stream",
       "stream": "stdout",
       "text": [
        "1 16 256 hexadecimal"
       ]
      }
     ],
     "prompt_number": 71
    },
    {
     "cell_type": "heading",
     "level": 3,
     "source": [
      "Exercise 2.2"
     ]
    },
    {
     "cell_type": "code",
     "collapsed": false,
     "input": [
      "5"
     ],
     "language": "python",
     "outputs": [
      {
       "output_type": "pyout",
       "prompt_number": 1,
       "text": [
        "5"
       ]
      }
     ],
     "prompt_number": 1
    },
    {
     "cell_type": "code",
     "collapsed": true,
     "input": [
      "x = 5"
     ],
     "language": "python",
     "outputs": [],
     "prompt_number": 2
    },
    {
     "cell_type": "code",
     "collapsed": false,
     "input": [
      "x + 1"
     ],
     "language": "python",
     "outputs": [
      {
       "output_type": "pyout",
       "prompt_number": 3,
       "text": [
        "6"
       ]
      }
     ],
     "prompt_number": 3
    },
    {
     "cell_type": "plaintext",
     "source": [
      "same statements in a script:"
     ]
    },
    {
     "cell_type": "code",
     "collapsed": false,
     "input": [
      "5",
      "x = 5",
      "x + 1"
     ],
     "language": "python",
     "outputs": [
      {
       "output_type": "pyout",
       "prompt_number": 4,
       "text": [
        "6"
       ]
      }
     ],
     "prompt_number": 4
    },
    {
     "cell_type": "plaintext",
     "source": [
      "with print statements:"
     ]
    },
    {
     "cell_type": "code",
     "collapsed": false,
     "input": [
      "print 5",
      "x = 5",
      "print x + 1"
     ],
     "language": "python",
     "outputs": [
      {
       "output_type": "stream",
       "stream": "stdout",
       "text": [
        "5",
        "6"
       ]
      }
     ],
     "prompt_number": 7
    },
    {
     "cell_type": "heading",
     "level": 3,
     "source": [
      "Exercise 2.3"
     ]
    },
    {
     "cell_type": "code",
     "collapsed": true,
     "input": [
      "width = 17",
      "height = 12.0",
      "delimiter = '.'"
     ],
     "language": "python",
     "outputs": [],
     "prompt_number": 8
    },
    {
     "cell_type": "code",
     "collapsed": false,
     "input": [
      "width/2  # integer -- 8"
     ],
     "language": "python",
     "outputs": [
      {
       "output_type": "pyout",
       "prompt_number": 9,
       "text": [
        "8"
       ]
      }
     ],
     "prompt_number": 9
    },
    {
     "cell_type": "code",
     "collapsed": false,
     "input": [
      "width/2.0  # float -- 8.5"
     ],
     "language": "python",
     "outputs": [
      {
       "output_type": "pyout",
       "prompt_number": 10,
       "text": [
        "8.5"
       ]
      }
     ],
     "prompt_number": 10
    },
    {
     "cell_type": "code",
     "collapsed": false,
     "input": [
      "height/3  # float -- 4.0"
     ],
     "language": "python",
     "outputs": [
      {
       "output_type": "pyout",
       "prompt_number": 11,
       "text": [
        "4.0"
       ]
      }
     ],
     "prompt_number": 11
    },
    {
     "cell_type": "code",
     "collapsed": false,
     "input": [
      "1 + 2 * 5  # integer -- 11"
     ],
     "language": "python",
     "outputs": [
      {
       "output_type": "pyout",
       "prompt_number": 12,
       "text": [
        "11"
       ]
      }
     ],
     "prompt_number": 12
    },
    {
     "cell_type": "code",
     "collapsed": false,
     "input": [
      "delimiter * 5  # string -- ....."
     ],
     "language": "python",
     "outputs": [
      {
       "output_type": "pyout",
       "prompt_number": 13,
       "text": [
        "'.....'"
       ]
      }
     ],
     "prompt_number": 13
    },
    {
     "cell_type": "heading",
     "level": 3,
     "source": [
      "Exercise 2.4"
     ]
    },
    {
     "cell_type": "plaintext",
     "source": [
      "1. Volume of a sphere with radius 5?"
     ]
    },
    {
     "cell_type": "code",
     "collapsed": false,
     "input": [
      "r = 5",
      "V = 4./3 * pi * r ** 3",
      "print \"Volume is\", V"
     ],
     "language": "python",
     "outputs": [
      {
       "output_type": "stream",
       "stream": "stdout",
       "text": [
        "Volume is 523.598775598"
       ]
      }
     ],
     "prompt_number": 61
    },
    {
     "cell_type": "plaintext",
     "source": [
      "2. Wholesale cost for 60 copies of $24.95 book at 40% discount, with shipping $3 for the first copy and $0.75 for each beyond?"
     ]
    },
    {
     "cell_type": "code",
     "collapsed": false,
     "input": [
      "cost = 24.95 * 0.4 * 60 + 3.0 + .75 * 59",
      "print \"Wholesale cost is $\", cost"
     ],
     "language": "python",
     "outputs": [
      {
       "output_type": "stream",
       "stream": "stdout",
       "text": [
        "Wholesale cost is $ 646.05"
       ]
      }
     ],
     "prompt_number": 59
    },
    {
     "cell_type": "plaintext",
     "source": [
      "3. Leave at 6:52am, run 1 mile easy (at 8:15 per mile), then 3 miles fast (7:12 per mile), and 1 mile easy again. When is breakfast?"
     ]
    },
    {
     "cell_type": "code",
     "collapsed": false,
     "input": [
      "time = 6 * 60 + 52   # minutes into the day",
      "run = 2 * (8 + 15./60) + 3 * (7 + 12./60)  # run time in minutes",
      "seconds = run%1 * 60 # leftover seconds",
      "x = int(run)",
      "bfast = time + x",
      "breakfast = bfast/60",
      "minutes = bfast%60 ",
      "print \"Breakfast Time is\", breakfast ,\":\", minutes"
     ],
     "language": "python",
     "outputs": [
      {
       "output_type": "stream",
       "stream": "stdout",
       "text": [
        "Breakfast Time is 7 : 30"
       ]
      }
     ],
     "prompt_number": 58
    }
   ]
  }
 ]
}