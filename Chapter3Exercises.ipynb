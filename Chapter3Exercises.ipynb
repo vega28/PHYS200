{
 "metadata": {
  "name": "Chapter3Exercises"
 },
 "nbformat": 3,
 "worksheets": [
  {
   "cells": [
    {
     "cell_type": "heading",
     "level": 3,
     "source": [
      "Exercise 3.1"
     ]
    },
    {
     "cell_type": "code",
     "collapsed": false,
     "input": [
      "repeat_lyrics()",
      "",
      "def print_lyrics():",
      "    print \"I'm a lumberjack, and I'm okay.\"",
      "    print \"I sleep all night and I work all day.\"",
      "def repeat_lyrics():",
      "    print_lyrics()",
      "    print_lyrics()",
      "    "
     ],
     "language": "python",
     "outputs": [
      {
       "ename": "NameError",
       "evalue": "name 'repeat_lyrics' is not defined",
       "output_type": "pyerr",
       "traceback": [
        "\u001b[1;31m---------------------------------------------------------------------------\u001b[0m\n\u001b[1;31mNameError\u001b[0m                                 Traceback (most recent call last)",
        "\u001b[1;32mC:\\Users\\Kelsi\\PHYS200\\<ipython-input-9-8ce6c4ebfc5d>\u001b[0m in \u001b[0;36m<module>\u001b[1;34m()\u001b[0m\n\u001b[1;32m----> 1\u001b[1;33m \u001b[0mrepeat_lyrics\u001b[0m\u001b[1;33m(\u001b[0m\u001b[1;33m)\u001b[0m\u001b[1;33m\u001b[0m\u001b[0m\n\u001b[0m\u001b[0;32m      2\u001b[0m \u001b[1;33m\u001b[0m\u001b[0m\n\u001b[0;32m      3\u001b[0m \u001b[1;32mdef\u001b[0m \u001b[0mprint_lyrics\u001b[0m\u001b[1;33m(\u001b[0m\u001b[1;33m)\u001b[0m\u001b[1;33m:\u001b[0m\u001b[1;33m\u001b[0m\u001b[0m\n\u001b[0;32m      4\u001b[0m     \u001b[1;32mprint\u001b[0m \u001b[1;34m\"I'm a lumberjack, and I'm okay.\"\u001b[0m\u001b[1;33m\u001b[0m\u001b[0m\n\u001b[0;32m      5\u001b[0m     \u001b[1;32mprint\u001b[0m \u001b[1;34m\"I sleep all night and I work all day.\"\u001b[0m\u001b[1;33m\u001b[0m\u001b[0m\n",
        "\u001b[1;31mNameError\u001b[0m: name 'repeat_lyrics' is not defined"
       ]
      }
     ],
     "prompt_number": 9
    },
    {
     "cell_type": "plaintext",
     "source": [
      "This doesn't work because what we're trying to print hasn't been defined yet."
     ]
    },
    {
     "cell_type": "heading",
     "level": 3,
     "source": [
      "Exercise 3.2"
     ]
    },
    {
     "cell_type": "code",
     "collapsed": false,
     "input": [
      "def repeat_lyrics():",
      "    print_lyrics()",
      "    print_lyrics()",
      "def print_lyrics():",
      "    print \"I'm a lumberjack, and I'm okay.\"",
      "    print \"I sleep all night and I work all day.\"",
      "    ",
      "repeat_lyrics()"
     ],
     "language": "python",
     "outputs": [
      {
       "output_type": "stream",
       "stream": "stdout",
       "text": [
        "I'm a lumberjack, and I'm okay.",
        "I sleep all night and I work all day.",
        "I'm a lumberjack, and I'm okay.",
        "I sleep all night and I work all day."
       ]
      }
     ],
     "prompt_number": 11
    },
    {
     "cell_type": "plaintext",
     "source": [
      "Now it works, even with the functions defined out of order. It puts them together after they're both defined."
     ]
    },
    {
     "cell_type": "heading",
     "level": 3,
     "source": [
      "Exercise 3.3"
     ]
    },
    {
     "cell_type": "code",
     "collapsed": false,
     "input": [
      "len('allen')"
     ],
     "language": "python",
     "outputs": [
      {
       "output_type": "pyout",
       "prompt_number": 12,
       "text": [
        "5"
       ]
      }
     ],
     "prompt_number": 12
    },
    {
     "cell_type": "code",
     "collapsed": false,
     "input": [
      "def right_justify(s):",
      "    n = 70 - len(s)",
      "    space = ' '",
      "    print n*space+s",
      "",
      "right_justify('woot it works')"
     ],
     "language": "python",
     "outputs": [
      {
       "output_type": "stream",
       "stream": "stdout",
       "text": [
        "                                                         woot it works"
       ]
      }
     ],
     "prompt_number": 19
    },
    {
     "cell_type": "heading",
     "level": 3,
     "source": [
      "Exercise 3.4"
     ]
    },
    {
     "cell_type": "plaintext",
     "source": [
      "1. test this script"
     ]
    },
    {
     "cell_type": "code",
     "collapsed": false,
     "input": [
      "def do_twice(f):",
      "    f()",
      "    f()",
      "",
      "def print_spam():",
      "    print 'spam'",
      "    ",
      "do_twice(print_spam)"
     ],
     "language": "python",
     "outputs": [
      {
       "output_type": "stream",
       "stream": "stdout",
       "text": [
        "spam",
        "spam"
       ]
      }
     ],
     "prompt_number": 22
    },
    {
     "cell_type": "plaintext",
     "source": [
      "2. modify for two arguments: a function object and a value"
     ]
    },
    {
     "cell_type": "code",
     "collapsed": false,
     "input": [
      "def do_twice(f,x):",
      "    f(x)",
      "    f(x)",
      "",
      "def print_spam(x):",
      "    print 'spam',x",
      "    ",
      "do_twice(print_spam,'hi')"
     ],
     "language": "python",
     "outputs": [
      {
       "output_type": "stream",
       "stream": "stdout",
       "text": [
        "spam hi",
        "spam hi"
       ]
      }
     ],
     "prompt_number": 25
    },
    {
     "cell_type": "plaintext",
     "source": [
      "3. make the function print_twice"
     ]
    },
    {
     "cell_type": "code",
     "collapsed": false,
     "input": [
      "def print_twice(x):",
      "    print x",
      "    print x",
      "    ",
      "print_twice('spam')"
     ],
     "language": "python",
     "outputs": [
      {
       "output_type": "stream",
       "stream": "stdout",
       "text": [
        "spam",
        "spam"
       ]
      }
     ],
     "prompt_number": 29
    },
    {
     "cell_type": "plaintext",
     "source": [
      "4. use this as the function in do_twice"
     ]
    },
    {
     "cell_type": "code",
     "collapsed": false,
     "input": [
      "do_twice(print_twice,'spam')"
     ],
     "language": "python",
     "outputs": [
      {
       "output_type": "stream",
       "stream": "stdout",
       "text": [
        "spam",
        "spam",
        "spam",
        "spam"
       ]
      }
     ],
     "prompt_number": 28
    },
    {
     "cell_type": "plaintext",
     "source": [
      "5. make a new function do_four"
     ]
    },
    {
     "cell_type": "code",
     "collapsed": false,
     "input": [
      "def do_four(x):",
      "    print_twice(x)",
      "    print_twice(x)",
      "    ",
      "do_four('spam')"
     ],
     "language": "python",
     "outputs": [
      {
       "output_type": "stream",
       "stream": "stdout",
       "text": [
        "spam",
        "spam",
        "spam",
        "spam"
       ]
      }
     ],
     "prompt_number": 30
    },
    {
     "cell_type": "heading",
     "level": 3,
     "source": [
      "Exercise 3.5"
     ]
    },
    {
     "cell_type": "plaintext",
     "source": [
      "make a 2x2 grid using the functions above"
     ]
    },
    {
     "cell_type": "code",
     "collapsed": false,
     "input": [
      "def grid():",
      "    x = ' +'+4*' -'",
      "    y = ' |'+4*'  '",
      "    print 2*x+' +'",
      "    do_four(3*y)",
      "    print 2*x+' +'",
      "    do_four(3*y)",
      "    print 2*x+' +'",
      "    ",
      "grid()"
     ],
     "language": "python",
     "outputs": [
      {
       "output_type": "stream",
       "stream": "stdout",
       "text": [
        " + - - - - + - - - - +",
        " |         |         |        ",
        " |         |         |        ",
        " |         |         |        ",
        " |         |         |        ",
        " + - - - - + - - - - +",
        " |         |         |        ",
        " |         |         |        ",
        " |         |         |        ",
        " |         |         |        ",
        " + - - - - + - - - - +"
       ]
      }
     ],
     "prompt_number": 50
    },
    {
     "cell_type": "plaintext",
     "source": [
      "2. now make it a 4x4 grid"
     ]
    },
    {
     "cell_type": "code",
     "collapsed": false,
     "input": [
      "",
      "def ngrid(n):",
      "    x = ' +'+4*' -'",
      "    y = ' |'+4*'  '",
      "    i = 0",
      "    while (i < n):",
      "        print n*x+' +'",
      "        do_four((n+1)*y)",
      "        i = i + 1",
      "    print n*x+' +'",
      "    ",
      "ngrid(4)"
     ],
     "language": "python",
     "outputs": [
      {
       "output_type": "stream",
       "stream": "stdout",
       "text": [
        " + - - - - + - - - - + - - - - + - - - - +",
        " |         |         |         |         |        ",
        " |         |         |         |         |        ",
        " |         |         |         |         |        ",
        " |         |         |         |         |        ",
        " + - - - - + - - - - + - - - - + - - - - +",
        " |         |         |         |         |        ",
        " |         |         |         |         |        ",
        " |         |         |         |         |        ",
        " |         |         |         |         |        ",
        " + - - - - + - - - - + - - - - + - - - - +",
        " |         |         |         |         |        ",
        " |         |         |         |         |        ",
        " |         |         |         |         |        ",
        " |         |         |         |         |        ",
        " + - - - - + - - - - + - - - - + - - - - +",
        " |         |         |         |         |        ",
        " |         |         |         |         |        ",
        " |         |         |         |         |        ",
        " |         |         |         |         |        ",
        " + - - - - + - - - - + - - - - + - - - - +"
       ]
      }
     ],
     "prompt_number": 65
    },
    {
     "cell_type": "plaintext",
     "source": [
      "This function can make a grid for an nxn grid."
     ]
    }
   ]
  }
 ]
}