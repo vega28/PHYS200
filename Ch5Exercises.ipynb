{
 "metadata": {
  "name": "Ch5Exercises"
 },
 "nbformat": 3,
 "worksheets": [
  {
   "cells": [
    {
     "cell_type": "plaintext",
     "source": [
      "These first few functions are random notes from Chapter 5."
     ]
    },
    {
     "cell_type": "code",
     "collapsed": false,
     "input": [
      "def countdown(n):",
      "    if n<=0:",
      "        print 'Blastoff!'",
      "    else:",
      "        print n",
      "        countdown(n-1)"
     ],
     "language": "python",
     "outputs": [],
     "prompt_number": 6
    },
    {
     "cell_type": "code",
     "collapsed": false,
     "input": [
      "countdown(3)"
     ],
     "language": "python",
     "outputs": [
      {
       "output_type": "stream",
       "stream": "stdout",
       "text": [
        "3",
        "2",
        "1",
        "Blastoff!"
       ]
      }
     ],
     "prompt_number": 11
    },
    {
     "cell_type": "code",
     "collapsed": true,
     "input": [
      "def print_n(s,n):",
      "    if n<=0:",
      "        return",
      "    else:",
      "        print s",
      "        print_n(s,n-1)"
     ],
     "language": "python",
     "outputs": [],
     "prompt_number": 16
    },
    {
     "cell_type": "code",
     "collapsed": false,
     "input": [
      "print_n('hi',5)"
     ],
     "language": "python",
     "outputs": [
      {
       "output_type": "stream",
       "stream": "stdout",
       "text": [
        "hi",
        "hi",
        "hi",
        "hi",
        "hi"
       ]
      }
     ],
     "prompt_number": 18
    },
    {
     "cell_type": "heading",
     "level": 3,
     "source": [
      "Ch5 Exercises"
     ]
    },
    {
     "cell_type": "plaintext",
     "source": [
      "5.2  Make a function that tells you if three input lengths can form a triangle."
     ]
    },
    {
     "cell_type": "code",
     "collapsed": true,
     "input": [
      "def is_triangle(x,y,z):",
      "    \"\"\"Tells if three lengths x, y, and z can form a triangle.\"\"\"",
      "    if x+y<z or x+z<y or y+z<x:",
      "        print 'nope'",
      "    else:",
      "        print 'yes'"
     ],
     "language": "python",
     "outputs": [],
     "prompt_number": 56
    },
    {
     "cell_type": "code",
     "collapsed": false,
     "input": [
      "is_triangle(4,5,6)",
      "is_triangle(4,8,3)"
     ],
     "language": "python",
     "outputs": [
      {
       "output_type": "stream",
       "stream": "stdout",
       "text": [
        "yes",
        "nope"
       ]
      }
     ],
     "prompt_number": 57
    },
    {
     "cell_type": "code",
     "collapsed": true,
     "input": [
      "def can_you_make_a_triangle():",
      "    \"\"\"Prompts user for three input lengths, sees if they make a triangle.\"\"\"",
      "    prompt = 'Enter three stick lengths, separated by one space, to see if they make a triangle.'",
      "    stick_length = raw_input(prompt)",
      "    length = stick_length.rsplit(' ')",
      "    is_triangle(length[0],length[1],length[2])"
     ],
     "language": "python",
     "outputs": []
    },
    {
     "cell_type": "plaintext",
     "source": [
      "This one works in ipython, even if it doesn't work in this ipy notebook."
     ]
    },
    {
     "cell_type": "plaintext",
     "source": [
      "5.3  "
     ]
    },
    {
     "cell_type": "code",
     "collapsed": true,
     "input": [
      "#Turtleworld go!",
      "import sys",
      "sys.path.append(\"C:\\Users\\Kelsi\\PHYS200\\swampy-2.0\")",
      "from TurtleWorld import *",
      "world = TurtleWorld()",
      "bob = Turtle()",
      "bob.delay = 0.01"
     ],
     "language": "python",
     "outputs": [],
     "prompt_number": 2
    },
    {
     "cell_type": "code",
     "collapsed": false,
     "input": [
      "def draw(t, length, n):",
      "    if n == 0:",
      "        return",
      "    angle = 50",
      "    fd(t, length*n)",
      "    lt(t, angle)",
      "    draw(t, length, n-1)",
      "    rt(t, 2*angle)",
      "    draw(t, length, n-1)",
      "    lt(t, angle)",
      "    bk(t, length*n)",
      "",
      "    ",
      "draw(bob, 20, 5)"
     ],
     "language": "python",
     "outputs": [],
     "prompt_number": 8
    },
    {
     "cell_type": "plaintext",
     "source": [
      "5.4.1  Make a Koch curve function."
     ]
    },
    {
     "cell_type": "code",
     "collapsed": true,
     "input": [
      "def koch(t, length, n):",
      "    if n < 3:",
      "        return",
      "    a = 60",
      "    fd(t, length*n/3)",
      "    lt(t, a)",
      "    #fd(t, length*n/3)",
      "    koch(t, length/3, n-1)",
      "    rt(t, 2*a)",
      "    #fd(t, length*n/3)",
      "    koch(t, length/3, n-1)",
      "    lt(t, a)",
      "    fd(t, length*n/3)",
      "    "
     ],
     "language": "python",
     "outputs": [],
     "prompt_number": 3
    },
    {
     "cell_type": "code",
     "collapsed": false,
     "input": [
      "bob.delay = 0.01",
      "lt(bob)",
      "koch(bob, 50, 9)"
     ],
     "language": "python",
     "outputs": [],
     "prompt_number": 29
    },
    {
     "cell_type": "plaintext",
     "source": [
      "Not quite working yet... the lengths seem off and it's missing pieces."
     ]
    },
    {
     "cell_type": "plaintext",
     "source": [
      "5.4.2  Make a snowflake function using the Koch curves."
     ]
    },
    {
     "cell_type": "code",
     "collapsed": true,
     "input": [
      "def snowflake(t, length, n):",
      "    for i in [1,2,3]:",
      "        koch(t, length, n)",
      "        rt(bob, 120)"
     ],
     "language": "python",
     "outputs": [],
     "prompt_number": 4
    },
    {
     "cell_type": "code",
     "collapsed": true,
     "input": [
      "snowflake(bob, 50, 9)"
     ],
     "language": "python",
     "outputs": [],
     "prompt_number": 5
    },
    {
     "cell_type": "plaintext",
     "source": [
      "The snowflake works at least!"
     ]
    }
   ]
  }
 ]
}